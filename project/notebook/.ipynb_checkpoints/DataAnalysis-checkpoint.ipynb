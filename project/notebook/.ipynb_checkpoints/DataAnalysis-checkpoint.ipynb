{
 "cells": [
  {
   "cell_type": "markdown",
   "metadata": {},
   "source": [
    "##### Dependencies\n",
    "____"
   ]
  },
  {
   "cell_type": "code",
   "execution_count": 2,
   "metadata": {},
   "outputs": [],
   "source": [
    "import seaborn as sns\n",
    "import pandas as pd\n",
    "import matplotlib.pyplot as plt\n",
    "\n",
    "%matplotlib inline\n",
    "\n",
    "sns.set(style=\"whitegrid\")"
   ]
  },
  {
   "cell_type": "markdown",
   "metadata": {},
   "source": [
    "##### Load Data\n",
    "_____"
   ]
  },
  {
   "cell_type": "code",
   "execution_count": 66,
   "metadata": {},
   "outputs": [
    {
     "data": {
      "text/html": [
       "<div>\n",
       "<style scoped>\n",
       "    .dataframe tbody tr th:only-of-type {\n",
       "        vertical-align: middle;\n",
       "    }\n",
       "\n",
       "    .dataframe tbody tr th {\n",
       "        vertical-align: top;\n",
       "    }\n",
       "\n",
       "    .dataframe thead th {\n",
       "        text-align: right;\n",
       "    }\n",
       "</style>\n",
       "<table border=\"1\" class=\"dataframe\">\n",
       "  <thead>\n",
       "    <tr style=\"text-align: right;\">\n",
       "      <th></th>\n",
       "      <th>simulation</th>\n",
       "      <th>days</th>\n",
       "      <th>infected</th>\n",
       "      <th>uninfected</th>\n",
       "    </tr>\n",
       "  </thead>\n",
       "  <tbody>\n",
       "    <tr>\n",
       "      <th>0</th>\n",
       "      <td>0</td>\n",
       "      <td>0</td>\n",
       "      <td>2</td>\n",
       "      <td>18</td>\n",
       "    </tr>\n",
       "    <tr>\n",
       "      <th>1</th>\n",
       "      <td>1</td>\n",
       "      <td>0</td>\n",
       "      <td>1</td>\n",
       "      <td>19</td>\n",
       "    </tr>\n",
       "    <tr>\n",
       "      <th>2</th>\n",
       "      <td>2</td>\n",
       "      <td>0</td>\n",
       "      <td>3</td>\n",
       "      <td>17</td>\n",
       "    </tr>\n",
       "    <tr>\n",
       "      <th>3</th>\n",
       "      <td>3</td>\n",
       "      <td>0</td>\n",
       "      <td>2</td>\n",
       "      <td>18</td>\n",
       "    </tr>\n",
       "    <tr>\n",
       "      <th>4</th>\n",
       "      <td>4</td>\n",
       "      <td>0</td>\n",
       "      <td>3</td>\n",
       "      <td>17</td>\n",
       "    </tr>\n",
       "  </tbody>\n",
       "</table>\n",
       "</div>"
      ],
      "text/plain": [
       "   simulation  days  infected  uninfected\n",
       "0           0     0         2          18\n",
       "1           1     0         1          19\n",
       "2           2     0         3          17\n",
       "3           3     0         2          18\n",
       "4           4     0         3          17"
      ]
     },
     "execution_count": 66,
     "metadata": {},
     "output_type": "execute_result"
    }
   ],
   "source": [
    "simulations = pd.read_csv('../output/2020-4-27-10-4-52.csv')\n",
    "simulations.head(5)"
   ]
  },
  {
   "cell_type": "markdown",
   "metadata": {},
   "source": [
    "##### Summary Statistics\n",
    "____"
   ]
  },
  {
   "cell_type": "code",
   "execution_count": 67,
   "metadata": {},
   "outputs": [
    {
     "data": {
      "text/html": [
       "<div>\n",
       "<style scoped>\n",
       "    .dataframe tbody tr th:only-of-type {\n",
       "        vertical-align: middle;\n",
       "    }\n",
       "\n",
       "    .dataframe tbody tr th {\n",
       "        vertical-align: top;\n",
       "    }\n",
       "\n",
       "    .dataframe thead th {\n",
       "        text-align: right;\n",
       "    }\n",
       "</style>\n",
       "<table border=\"1\" class=\"dataframe\">\n",
       "  <thead>\n",
       "    <tr style=\"text-align: right;\">\n",
       "      <th></th>\n",
       "      <th>Total Simulation</th>\n",
       "      <th>Total Computers</th>\n",
       "      <th>Total Days infected</th>\n",
       "      <th>Min. Computers Infected</th>\n",
       "      <th>Avg. Computers Infected</th>\n",
       "      <th>Med. Computers Infected</th>\n",
       "      <th>Std. Computers Infected</th>\n",
       "      <th>Max. Computers Infected</th>\n",
       "      <th>Min. Day(s) Infected</th>\n",
       "      <th>Avg. Day(s) Infected</th>\n",
       "      <th>Med. Day(s) Infected</th>\n",
       "      <th>Std. Day(s) Infected</th>\n",
       "      <th>Max. Day(s) Infected</th>\n",
       "    </tr>\n",
       "  </thead>\n",
       "  <tbody>\n",
       "    <tr>\n",
       "      <th>0</th>\n",
       "      <td>10000</td>\n",
       "      <td>20</td>\n",
       "      <td>724114</td>\n",
       "      <td>1</td>\n",
       "      <td>20</td>\n",
       "      <td>3.0</td>\n",
       "      <td>1.634098</td>\n",
       "      <td>20</td>\n",
       "      <td>0</td>\n",
       "      <td>163307</td>\n",
       "      <td>0.0</td>\n",
       "      <td>2810.642987</td>\n",
       "      <td>163307</td>\n",
       "    </tr>\n",
       "  </tbody>\n",
       "</table>\n",
       "</div>"
      ],
      "text/plain": [
       "   Total Simulation  Total Computers  Total Days infected  \\\n",
       "0             10000               20               724114   \n",
       "\n",
       "   Min. Computers Infected  Avg. Computers Infected  Med. Computers Infected  \\\n",
       "0                        1                       20                      3.0   \n",
       "\n",
       "   Std. Computers Infected  Max. Computers Infected  Min. Day(s) Infected  \\\n",
       "0                 1.634098                       20                     0   \n",
       "\n",
       "   Avg. Day(s) Infected  Med. Day(s) Infected  Std. Day(s) Infected  \\\n",
       "0                163307                   0.0           2810.642987   \n",
       "\n",
       "   Max. Day(s) Infected  \n",
       "0                163307  "
      ]
     },
     "execution_count": 67,
     "metadata": {},
     "output_type": "execute_result"
    }
   ],
   "source": [
    "total_simulation = simulations['simulation'].count() \n",
    "total_computers = (simulations.head(1)['uninfected'] + simulations.head(1)['infected'])[0]\n",
    "total_days = simulations['days'].sum()\n",
    "\n",
    "min_infected = simulations['infected'].min()\n",
    "avg_infected = simulations['infected'].max()\n",
    "median_infected = simulations['infected'].median()\n",
    "std_infected = simulations['infected'].std()\n",
    "max_infected = simulations['infected'].max()\n",
    "\n",
    "min_days = simulations['days'].min()\n",
    "avg_days = simulations['days'].max()\n",
    "median_days = simulations['days'].median()\n",
    "std_days = simulations['days'].std()\n",
    "max_days = simulations['days'].max()\n",
    "\n",
    "summary_data = [{\n",
    "    'Total Simulation'        : total_simulation,\n",
    "    'Total Computers'         : total_computers,\n",
    "    'Total Days infected'     : total_days,\n",
    "    'Min. Computers Infected' : min_infected,\n",
    "    'Avg. Computers Infected' : avg_infected,\n",
    "    'Med. Computers Infected' : median_infected,\n",
    "    'Std. Computers Infected' : std_infected, \n",
    "    'Max. Computers Infected' : max_infected,\n",
    "    'Min. Day(s) Infected'    : min_days,\n",
    "    'Avg. Day(s) Infected'    : avg_days,\n",
    "    'Med. Day(s) Infected'    : median_days,\n",
    "    'Std. Day(s) Infected'    : std_days,\n",
    "    'Max. Day(s) Infected'    : max_days\n",
    "}]\n",
    "\n",
    "summary = pd.DataFrame(data=summary_data, columns=list(summary_data[0].keys()))\n",
    "summary"
   ]
  },
  {
   "cell_type": "markdown",
   "metadata": {},
   "source": [
    "##### Quanties Days Distribution \n",
    "_____"
   ]
  },
  {
   "cell_type": "code",
   "execution_count": 68,
   "metadata": {},
   "outputs": [
    {
     "data": {
      "text/html": [
       "<div>\n",
       "<style scoped>\n",
       "    .dataframe tbody tr th:only-of-type {\n",
       "        vertical-align: middle;\n",
       "    }\n",
       "\n",
       "    .dataframe tbody tr th {\n",
       "        vertical-align: top;\n",
       "    }\n",
       "\n",
       "    .dataframe thead th {\n",
       "        text-align: right;\n",
       "    }\n",
       "</style>\n",
       "<table border=\"1\" class=\"dataframe\">\n",
       "  <thead>\n",
       "    <tr style=\"text-align: right;\">\n",
       "      <th></th>\n",
       "      <th>1%</th>\n",
       "      <th>10%</th>\n",
       "      <th>20%</th>\n",
       "      <th>30%</th>\n",
       "      <th>40%</th>\n",
       "      <th>50%</th>\n",
       "      <th>60%</th>\n",
       "      <th>70%</th>\n",
       "      <th>80%</th>\n",
       "      <th>90%</th>\n",
       "      <th>99%</th>\n",
       "      <th>100%</th>\n",
       "    </tr>\n",
       "  </thead>\n",
       "  <tbody>\n",
       "    <tr>\n",
       "      <th>0</th>\n",
       "      <td>0</td>\n",
       "      <td>0</td>\n",
       "      <td>0</td>\n",
       "      <td>0</td>\n",
       "      <td>0</td>\n",
       "      <td>0</td>\n",
       "      <td>0</td>\n",
       "      <td>0</td>\n",
       "      <td>0</td>\n",
       "      <td>0</td>\n",
       "      <td>1</td>\n",
       "      <td>163,307</td>\n",
       "    </tr>\n",
       "  </tbody>\n",
       "</table>\n",
       "</div>"
      ],
      "text/plain": [
       "  1% 10% 20% 30% 40% 50% 60% 70% 80% 90% 99%     100%\n",
       "0  0   0   0   0   0   0   0   0   0   0   1  163,307"
      ]
     },
     "execution_count": 68,
     "metadata": {},
     "output_type": "execute_result"
    }
   ],
   "source": [
    "quanties = [0.01, 0.10, 0.20, 0.30, 0.40, 0.5, 0.6, 0.7, 0.8, 0.9, 0.99, 1.0]\n",
    "series_quanties = simulations['days'].quantile(quanties)\n",
    "\n",
    "record = {}\n",
    "\n",
    "for item in series_quanties.items():    \n",
    "    record[str(int(item[0]*100)) + '%'] = f'{item[1]:,.0f}'\n",
    "    \n",
    "pd.DataFrame(data=[record], columns=list(record.keys()))"
   ]
  },
  {
   "cell_type": "markdown",
   "metadata": {},
   "source": [
    "#### Infections Analysis\n",
    "_____"
   ]
  },
  {
   "cell_type": "code",
   "execution_count": 69,
   "metadata": {},
   "outputs": [
    {
     "data": {
      "image/png": "[encoded data removed]",
      "text/plain": [
       "<Figure size 1300x400 with 2 Axes>"
      ]
     },
     "metadata": {},
     "output_type": "display_data"
    }
   ],
   "source": [
    "total_computers = (simulations.head(1)['uninfected'] + simulations.head(1)['infected'])[0]\n",
    "\n",
    "fig, axes =  plt.subplots(nrows=1, ncols=2, figsize=(13,4), dpi=100)\n",
    "\n",
    "axes[0].set_title('Infection Distribution')\n",
    "sns.distplot(simulations['infected'], kde=False,ax=axes[0], bins=total_computers);\n",
    "\n",
    "# removing outliers\n",
    "cond = simulations['days'] < 365\n",
    "\n",
    "#Q1 = summary.quantile(0.25)\n",
    "#Q3 = summary.quantile(0.75)\n",
    "#IQR = Q3 - Q1\n",
    "#cond1 = summary['days'] < (Q1 - 1.5 * IQR)\n",
    "#cond2 = summary['days'] > (Q3 + 1.5 * IQR)\n",
    "#simulations[cond1 & cond2]\n",
    "\n",
    "\n",
    "axes[1].set_title('Infected Days Distribution')\n",
    "sns.boxplot(x='days', data=simulations[cond], ax=axes[1],y='infected')\n",
    "\n",
    "\n",
    "plt.tight_layout()"
   ]
  },
  {
   "cell_type": "code",
   "execution_count": 70,
   "metadata": {},
   "outputs": [],
   "source": [
    "summary.to_csv('../output/summary.csv', index=False)"
   ]
  },
  {
   "cell_type": "code",
   "execution_count": null,
   "metadata": {},
   "outputs": [],
   "source": []
  }
 ],
 "metadata": {
  "kernelspec": {
   "display_name": "Python 3",
   "language": "python",
   "name": "python3"
  },
  "language_info": {
   "codemirror_mode": {
    "name": "ipython",
    "version": 3
   },
   "file_extension": ".py",
   "mimetype": "text/x-python",
   "name": "python",
   "nbconvert_exporter": "python",
   "pygments_lexer": "ipython3",
   "version": "3.7.6"
  }
 },
 "nbformat": 4,
 "nbformat_minor": 4
}
