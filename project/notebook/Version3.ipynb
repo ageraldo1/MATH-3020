{
 "cells": [
  {
   "cell_type": "markdown",
   "metadata": {},
   "source": [
    "##### Dependencies\n",
    "____"
   ]
  },
  {
   "cell_type": "code",
   "execution_count": 13,
   "metadata": {},
   "outputs": [],
   "source": [
    "import numpy as np\n",
    "import random\n",
    "import seaborn as sns\n",
    "import pandas as pd\n",
    "import math\n",
    "import matplotlib.pyplot as plt\n",
    "import json\n",
    "\n",
    "from itertools import combinations \n",
    "\n",
    "%matplotlib inline\n",
    "\n",
    "sns.set(style=\"whitegrid\")"
   ]
  },
  {
   "cell_type": "markdown",
   "metadata": {},
   "source": [
    "##### Constants\n",
    "_____"
   ]
  },
  {
   "cell_type": "code",
   "execution_count": 14,
   "metadata": {},
   "outputs": [],
   "source": [
    "INFECTED = 1\n",
    "UNINFECTED = 0"
   ]
  },
  {
   "cell_type": "markdown",
   "metadata": {},
   "source": [
    "##### Variables\n",
    "____"
   ]
  },
  {
   "cell_type": "code",
   "execution_count": 15,
   "metadata": {},
   "outputs": [],
   "source": [
    "computers = 20\n",
    "initial_infection = 1\n",
    "prob = 0.1\n",
    "tech_threshold = 5\n",
    "total_simulations = 1"
   ]
  },
  {
   "cell_type": "markdown",
   "metadata": {},
   "source": [
    "##### Functions\n",
    "_____"
   ]
  },
  {
   "cell_type": "code",
   "execution_count": 16,
   "metadata": {},
   "outputs": [],
   "source": [
    "def is_network_clear(network):\n",
    "    for item in network:\n",
    "        if item['state'] == INFECTED:\n",
    "            return False\n",
    "        \n",
    "    return True    "
   ]
  },
  {
   "cell_type": "code",
   "execution_count": 17,
   "metadata": {},
   "outputs": [],
   "source": [
    "def print_network(network):\n",
    "    for item in network:\n",
    "        print(item)"
   ]
  },
  {
   "cell_type": "code",
   "execution_count": 18,
   "metadata": {},
   "outputs": [],
   "source": [
    "def setComputerState(network, id, state):\n",
    "    for item in network:\n",
    "        if item['computer'] == id:\n",
    "            \n",
    "            if (item['state'] == UNINFECTED):\n",
    "                item['infections'] += 1\n",
    "                \n",
    "            elif (item['state'] == INFECTED):\n",
    "                item['recovers'] += 1\n",
    "                \n",
    "            item['state'] = state\n",
    "            \n",
    "            break"
   ]
  },
  {
   "cell_type": "code",
   "execution_count": 19,
   "metadata": {},
   "outputs": [],
   "source": [
    "def clearRandomNetwork(network, fromState, toState, count):\n",
    "    total = 0\n",
    "    \n",
    "    infected = [item for item in network if item['state'] == fromState]\n",
    "    \n",
    "    if len(infected) > count:\n",
    "        for item in random.sample(infected, k=count):\n",
    "            setComputerState(network, item['computer'], toState)\n",
    "    else:\n",
    "        for item in infected:\n",
    "            setComputerState(network, item['computer'], toState)\n",
    "            "
   ]
  },
  {
   "cell_type": "code",
   "execution_count": 20,
   "metadata": {},
   "outputs": [],
   "source": [
    "def bernoulli(p):\n",
    "    random_number = random.random()\n",
    "    \n",
    "    return (1 if random_number <= p else 0)"
   ]
  },
  {
   "cell_type": "markdown",
   "metadata": {},
   "source": [
    "##### Model\n",
    "_____"
   ]
  },
  {
   "cell_type": "code",
   "execution_count": 21,
   "metadata": {},
   "outputs": [],
   "source": [
    "simulations = []\n",
    "\n",
    "for simulation in range(total_simulations):\n",
    "    # construct network\n",
    "    network = [{'computer' : id, 'state' : UNINFECTED, 'infections': 0, 'recovers' : 0} for id in range(0, computers)]\n",
    "    days = None\n",
    "    \n",
    "    # initial infection (random)\n",
    "    for _ in range(initial_infection):\n",
    "        setComputerState(network, random.randrange(0, len(network), step=1), INFECTED)        \n",
    "        \n",
    "    # network_clear loop        \n",
    "    while (not is_network_clear(network)):\n",
    "        if (days is None):\n",
    "            days = 0\n",
    "        else:\n",
    "            days += 1\n",
    "\n",
    "        # spread the virus across uninfected computers\n",
    "        # this virus spreads from any infected computer to any uninfected\n",
    "        infected = [item for item in network if item['state'] == INFECTED]            \n",
    "\n",
    "        for _ in infected:\n",
    "            uninfected = [item for item in network if item['state'] == UNINFECTED]\n",
    "\n",
    "            for item in uninfected:\n",
    "                if (np.random.binomial(n=1, p=prob, size=1)[0] == INFECTED):\n",
    "                #if (bernoulli(prob) == INFECTED):\n",
    "                    setComputerState(network, item[\"computer\"], INFECTED)\n",
    "\n",
    "\n",
    "        # computer technician arrives, finds a new_k number of infected computers\n",
    "        clearRandomNetwork(network, INFECTED, UNINFECTED, tech_threshold) \n",
    "\n",
    "    # save results    \n",
    "    distinct_infections = sum([1 for item in network if item['infections'] > 0])\n",
    "\n",
    "    simulations.append({\n",
    "        'simulation' : simulation,\n",
    "        'days'       : days,\n",
    "        'infected'   : distinct_infections,\n",
    "        'uninfected' : computers - distinct_infections\n",
    "    })\n"
   ]
  },
  {
   "cell_type": "markdown",
   "metadata": {},
   "source": [
    "##### Results\n",
    "_____"
   ]
  },
  {
   "cell_type": "code",
   "execution_count": 22,
   "metadata": {},
   "outputs": [
    {
     "data": {
      "text/html": [
       "<div>\n",
       "<style scoped>\n",
       "    .dataframe tbody tr th:only-of-type {\n",
       "        vertical-align: middle;\n",
       "    }\n",
       "\n",
       "    .dataframe tbody tr th {\n",
       "        vertical-align: top;\n",
       "    }\n",
       "\n",
       "    .dataframe thead th {\n",
       "        text-align: right;\n",
       "    }\n",
       "</style>\n",
       "<table border=\"1\" class=\"dataframe\">\n",
       "  <thead>\n",
       "    <tr style=\"text-align: right;\">\n",
       "      <th></th>\n",
       "      <th>simulation</th>\n",
       "      <th>days</th>\n",
       "      <th>infected</th>\n",
       "      <th>uninfected</th>\n",
       "    </tr>\n",
       "  </thead>\n",
       "  <tbody>\n",
       "    <tr>\n",
       "      <th>0</th>\n",
       "      <td>0</td>\n",
       "      <td>0</td>\n",
       "      <td>4</td>\n",
       "      <td>16</td>\n",
       "    </tr>\n",
       "  </tbody>\n",
       "</table>\n",
       "</div>"
      ],
      "text/plain": [
       "   simulation  days  infected  uninfected\n",
       "0           0     0         4          16"
      ]
     },
     "execution_count": 22,
     "metadata": {},
     "output_type": "execute_result"
    }
   ],
   "source": [
    "summary = pd.DataFrame(data=simulations, columns=list(simulations[0].keys()))\n",
    "\n",
    "summary"
   ]
  },
  {
   "cell_type": "code",
   "execution_count": 23,
   "metadata": {},
   "outputs": [
    {
     "name": "stdout",
     "output_type": "stream",
     "text": [
      "The expected time it takes to remove the virus from the whole network : 0 day(s)\n",
      "The probability that each computer gets infected at least once : 0.0\n",
      "The expected number of computers that get infected : 4\n"
     ]
    }
   ],
   "source": [
    "expected_days = summary['days'].max()/total_simulations\n",
    "\n",
    "cond = summary['infected'] == 20\n",
    "p = summary[cond].count()[0]/total_simulations\n",
    "\n",
    "expected_computers = summary['infected'].sum()/total_simulations\n",
    "\n",
    "print(f\"The expected time it takes to remove the virus from the whole network : {math.ceil(expected_days)} day(s)\")\n",
    "print(f\"The probability that each computer gets infected at least once : {p}\")\n",
    "print(f\"The expected number of computers that get infected : {math.ceil(expected_computers)}\")"
   ]
  },
  {
   "cell_type": "markdown",
   "metadata": {},
   "source": [
    "##### Visualizations\n",
    "_____"
   ]
  },
  {
   "cell_type": "code",
   "execution_count": 12,
   "metadata": {},
   "outputs": [
    {
     "data": {
      "image/png": "[encoded data removed]",
      "text/plain": [
       "<Figure size 1100x400 with 2 Axes>"
      ]
     },
     "metadata": {},
     "output_type": "display_data"
    }
   ],
   "source": [
    "fig, axes =  plt.subplots(nrows=1, ncols=2, figsize=(11,4), dpi=100)\n",
    "\n",
    "axes[0].set_title('Virus Spread Distribution')\n",
    "\n",
    "sns.distplot(summary['infected'], kde=False,ax=axes[0],bins=computers);\n",
    "axes[0].set_xticks(list(range(1,computers + 1)))\n",
    "\n",
    "# removing outliers\n",
    "#Q1 = summary.quantile(0.25)\n",
    "#Q3 = summary.quantile(0.75)\n",
    "#IQR = Q3 - Q1\n",
    "\n",
    "#cond1 = summary['days'] < (Q1 - 1.5 * IQR)\n",
    "#cond2 = summary['days'] > (Q3 + 1.5 * IQR)\n",
    "#summary[cond1 & cond2]\n",
    "\n",
    "axes[1].set_title('Virus Spread Over Days Distribution')\n",
    "sns.boxplot(x='days', data=summary, ax=axes[1],y='infected')\n",
    "\n",
    "\n",
    "plt.tight_layout()"
   ]
  },
  {
   "cell_type": "code",
   "execution_count": 169,
   "metadata": {},
   "outputs": [],
   "source": [
    "#Q1 = summary['days'].quantile(0.25)\n",
    "#Q3 = summary['days'].quantile(0.75)\n",
    "#IQR = Q3 - Q1\n",
    "\n",
    "#cond1 = summary['days'] < (Q1 - 1.5 * IQR)\n",
    "#cond2 = summary['days'] > (Q3 + 1.5 * IQR)\n",
    "#summary[cond1 & cond2]\n",
    "\n",
    "#summary['days'].quantile(1.0)"
   ]
  },
  {
   "cell_type": "code",
   "execution_count": 133,
   "metadata": {},
   "outputs": [
    {
     "data": {
      "text/html": [
       "<div>\n",
       "<style scoped>\n",
       "    .dataframe tbody tr th:only-of-type {\n",
       "        vertical-align: middle;\n",
       "    }\n",
       "\n",
       "    .dataframe tbody tr th {\n",
       "        vertical-align: top;\n",
       "    }\n",
       "\n",
       "    .dataframe thead th {\n",
       "        text-align: right;\n",
       "    }\n",
       "</style>\n",
       "<table border=\"1\" class=\"dataframe\">\n",
       "  <thead>\n",
       "    <tr style=\"text-align: right;\">\n",
       "      <th></th>\n",
       "      <th>simulation</th>\n",
       "      <th>days</th>\n",
       "      <th>infected</th>\n",
       "      <th>uninfected</th>\n",
       "    </tr>\n",
       "  </thead>\n",
       "  <tbody>\n",
       "    <tr>\n",
       "      <th>16</th>\n",
       "      <td>16</td>\n",
       "      <td>2</td>\n",
       "      <td>10</td>\n",
       "      <td>10</td>\n",
       "    </tr>\n",
       "    <tr>\n",
       "      <th>45</th>\n",
       "      <td>45</td>\n",
       "      <td>1117377</td>\n",
       "      <td>20</td>\n",
       "      <td>0</td>\n",
       "    </tr>\n",
       "    <tr>\n",
       "      <th>436</th>\n",
       "      <td>436</td>\n",
       "      <td>5</td>\n",
       "      <td>16</td>\n",
       "      <td>4</td>\n",
       "    </tr>\n",
       "    <tr>\n",
       "      <th>450</th>\n",
       "      <td>450</td>\n",
       "      <td>2</td>\n",
       "      <td>14</td>\n",
       "      <td>6</td>\n",
       "    </tr>\n",
       "    <tr>\n",
       "      <th>901</th>\n",
       "      <td>901</td>\n",
       "      <td>3</td>\n",
       "      <td>14</td>\n",
       "      <td>6</td>\n",
       "    </tr>\n",
       "  </tbody>\n",
       "</table>\n",
       "</div>"
      ],
      "text/plain": [
       "     simulation     days  infected  uninfected\n",
       "16           16        2        10          10\n",
       "45           45  1117377        20           0\n",
       "436         436        5        16           4\n",
       "450         450        2        14           6\n",
       "901         901        3        14           6"
      ]
     },
     "execution_count": 133,
     "metadata": {},
     "output_type": "execute_result"
    }
   ],
   "source": [
    "cond = summary['days'] > 1\n",
    "summary[cond]\n",
    "\n",
    "\n",
    "#cond = summary['simulation'] == 3301\n",
    "#summary[cond]"
   ]
  },
  {
   "cell_type": "code",
   "execution_count": 141,
   "metadata": {},
   "outputs": [
    {
     "data": {
      "text/plain": [
       "simulation    749.25\n",
       "days            0.00\n",
       "infected        4.00\n",
       "uninfected     18.00\n",
       "Name: 0.75, dtype: float64"
      ]
     },
     "execution_count": 141,
     "metadata": {},
     "output_type": "execute_result"
    }
   ],
   "source": [
    "summary.quantile(0.75)"
   ]
  },
  {
   "cell_type": "code",
   "execution_count": null,
   "metadata": {},
   "outputs": [],
   "source": []
  },
  {
   "cell_type": "code",
   "execution_count": null,
   "metadata": {},
   "outputs": [],
   "source": []
  },
  {
   "cell_type": "code",
   "execution_count": null,
   "metadata": {},
   "outputs": [],
   "source": []
  },
  {
   "cell_type": "code",
   "execution_count": null,
   "metadata": {},
   "outputs": [],
   "source": []
  },
  {
   "cell_type": "code",
   "execution_count": null,
   "metadata": {},
   "outputs": [],
   "source": []
  },
  {
   "cell_type": "code",
   "execution_count": null,
   "metadata": {},
   "outputs": [],
   "source": [
    "### b the probability that each computer gets infected at least once\n",
    "  # count ( infected = 20 / total simulations)\n",
    "    \n",
    "    \n",
    "# a)  the expected time it takes to remove the virus from the whole network\n",
    "## number of days /total simulations - avg number of days\n",
    "\n",
    "## c) the expected number of computers that get infected\n",
    "### sum(infected)/ total simulations\n",
    "\n",
    "    "
   ]
  },
  {
   "cell_type": "code",
   "execution_count": null,
   "metadata": {},
   "outputs": [],
   "source": [
    "def binomial(item):\n",
    "    c = math.factorial(computers)/(math.factorial(tech_threshold)*math.factorial(computers-tech_threshold))\n",
    "    p = pow(item['p'], tech_threshold)\n",
    "    q = pow(item['q'], (computers - tech_threshold))\n",
    "    \n",
    "    return c * p * q"
   ]
  }
 ],
 "metadata": {
  "kernelspec": {
   "display_name": "Python 3",
   "language": "python",
   "name": "python3"
  },
  "language_info": {
   "codemirror_mode": {
    "name": "ipython",
    "version": 3
   },
   "file_extension": ".py",
   "mimetype": "text/x-python",
   "name": "python",
   "nbconvert_exporter": "python",
   "pygments_lexer": "ipython3",
   "version": "3.7.6"
  }
 },
 "nbformat": 4,
 "nbformat_minor": 4
}
