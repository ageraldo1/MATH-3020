{
 "cells": [
  {
   "cell_type": "markdown",
   "metadata": {},
   "source": [
    "## MATH 3020 - Probability and Statistics for Computer Science\n",
    "### Computer Project\n",
    "____"
   ]
  },
  {
   "cell_type": "markdown",
   "metadata": {},
   "source": [
    "**Description:** Twenty computers are connected in a network. One computer becomes infected with a virus. Every day, this virus spreads from any infected computer to any uninfected computer with a probability 0.1. Also, every day, a computer technician takes 5 infected computers at random (or all infected computers, if their numbers is less than 5) and removes the virus from them. Estimate:\n",
    "+ (a) the expected time it takes to remove the virus from the whole network\n",
    "+ (b) the probability that each computer gets infected at least once\n",
    "+ (c) the expected number of computers that get infected"
   ]
  },
  {
   "cell_type": "markdown",
   "metadata": {},
   "source": [
    "**Theory:**\n",
    "+ (a) 73 days\n",
    "+ (b) 0.0012\n",
    "+ (c) 3 \n",
    "    "
   ]
  },
  {
   "cell_type": "markdown",
   "metadata": {},
   "source": [
    "##### Dependencies\n",
    "____"
   ]
  },
  {
   "cell_type": "code",
   "execution_count": 1,
   "metadata": {},
   "outputs": [],
   "source": [
    "import numpy as np\n",
    "import random\n",
    "import seaborn as sns\n",
    "import pandas as pd\n",
    "import math\n",
    "import matplotlib.pyplot as plt\n",
    "import json\n",
    "\n",
    "\n",
    "%matplotlib inline\n",
    "\n",
    "sns.set(style=\"whitegrid\")"
   ]
  },
  {
   "cell_type": "markdown",
   "metadata": {},
   "source": [
    "##### Input Variables\n",
    "____"
   ]
  },
  {
   "cell_type": "code",
   "execution_count": 112,
   "metadata": {
    "jupyter": {
     "source_hidden": true
    }
   },
   "outputs": [],
   "source": [
    "computers = 20\n",
    "infected = 1\n",
    "prob = 0.1\n",
    "uninfected = (computers - infected)\n",
    "#total_days = 2000000\n",
    "total_days = 10000000\n",
    "#total_days = 100\n",
    "tech_threshold = 5\n",
    "\n",
    "simulations = []"
   ]
  },
  {
   "cell_type": "markdown",
   "metadata": {},
   "source": [
    "##### Simulation\n",
    "____"
   ]
  },
  {
   "cell_type": "code",
   "execution_count": 104,
   "metadata": {
    "jupyter": {
     "source_hidden": true
    }
   },
   "outputs": [],
   "source": [
    "for day in range(total_days):\n",
    "    computers = 20\n",
    "    infected = 1\n",
    "    prob = 0.1\n",
    "    uninfected = (computers - infected)    \n",
    "    clear_network = (True if infected == 0 else False)\n",
    "    \n",
    "    while (not clear_network):\n",
    "        spread = sum(np.random.binomial(n=1, p=prob, size=uninfected))        \n",
    "        infected = infected + spread\n",
    "        uninfected = uninfected - spread\n",
    "\n",
    "        # computer technician arrives, finds a new_k number of infected computers\n",
    "        # if new_k <= 5, clean all of them, and flag that the network is clean\n",
    "        # else pick randomly any 5 out of the infected new_k and clean them\n",
    "\n",
    "        if ( infected    <= tech_threshold):\n",
    "            uninfected    = uninfected + infected\n",
    "            infected      = 0        \n",
    "        else:\n",
    "            uninfected    = uninfected + tech_threshold\n",
    "            infected      = infected - tech_threshold    \n",
    "            \n",
    "        clear_network = (True if infected == 0 else False)\n",
    "\n",
    "        simulations.append({        \n",
    "            'day'          : day+1, \n",
    "            'computers'    : computers,\n",
    "            'spread'       : spread,\n",
    "            'clearNetwork' : (True if infected == 0 else False),\n",
    "            'infected'     : infected,\n",
    "            'uninfected'   : uninfected,\n",
    "            'probability'  : infected/(day+1)\n",
    "        })        \n"
   ]
  },
  {
   "cell_type": "markdown",
   "metadata": {},
   "source": [
    "##### Functions\n",
    "_____"
   ]
  },
  {
   "cell_type": "code",
   "execution_count": 2,
   "metadata": {},
   "outputs": [],
   "source": [
    "def setComputerState(network, id, state):\n",
    "    for item in network:\n",
    "        if item['_id'] == id:\n",
    "            item['state'] = state\n",
    "            \n",
    "            if state == INFECTED:\n",
    "                item['infections'] = item['infections'] + 1\n",
    "                \n",
    "            break"
   ]
  },
  {
   "cell_type": "code",
   "execution_count": 3,
   "metadata": {},
   "outputs": [],
   "source": [
    "def changeNetworkState(network, fromState, toState):\n",
    "    for item in network:\n",
    "        if item['state'] == fromState:\n",
    "            item['state'] = toState\n",
    "            \n",
    "            #if fromState == INFECTED:\n",
    "            #    item['infections'] = item['infections'] + 1\n",
    "            \n"
   ]
  },
  {
   "cell_type": "code",
   "execution_count": 4,
   "metadata": {},
   "outputs": [],
   "source": [
    "def totalState(network, state):\n",
    "    total = 0\n",
    "    \n",
    "    for item in network:\n",
    "        if item['state'] == state:\n",
    "            total = total + 1\n",
    "            \n",
    "    return total"
   ]
  },
  {
   "cell_type": "code",
   "execution_count": 68,
   "metadata": {},
   "outputs": [],
   "source": [
    "def setRandomState(network, fromState, toState, count):\n",
    "    total = 0\n",
    "    \n",
    "    infected = [item for item in network if item['state'] == fromState]\n",
    "    #print ('infected list')\n",
    "    #for item in infected:\n",
    "    #    print(item)\n",
    "    \n",
    "    #for item in random.choices(infected, k=count):\n",
    "    for item in random.sample(infected, k=count):\n",
    "        #print (f'fixing item : {item}')\n",
    "        setComputerState(network, item['_id'], toState)"
   ]
  },
  {
   "cell_type": "markdown",
   "metadata": {},
   "source": [
    "#### Version 2\n",
    "____"
   ]
  },
  {
   "cell_type": "code",
   "execution_count": 74,
   "metadata": {},
   "outputs": [],
   "source": [
    "# constants\n",
    "CLEAR = 2\n",
    "INFECTED = 1\n",
    "UNINFECTED = 0\n",
    "\n",
    "# variables setup\n",
    "computers = 20\n",
    "initial_infection = 1\n",
    "prob = 0.1\n",
    "tech_threshold = 3\n",
    "total_simulations = 1\n",
    "simulations = []\n",
    "\n",
    "# initial simulation\n",
    "for day in range(total_simulations):\n",
    "    \n",
    "    # construct network\n",
    "    network = [{'_id' : id, 'state' : UNINFECTED, 'infections': 0} for id in range(0, computers)]\n",
    "    clear_network = False\n",
    "\n",
    "    # initial infection (random)\n",
    "    for _ in range(initial_infection):\n",
    "        setComputerState(network, random.randrange(0, len(network), step=1), INFECTED)\n",
    "        initial_spread=True\n",
    "        spread = 1\n",
    "    \n",
    "    # dayly work\n",
    "    while (not clear_network):\n",
    "        # spread the virus across uninfected computers\n",
    "        if (initial_spread) == True:\n",
    "            initial_spread = False\n",
    "        else:\n",
    "            spread = 0\n",
    "        \n",
    "        for item in network:\n",
    "            if (item['state'] == UNINFECTED):\n",
    "                if (np.random.binomial(n=1, p=prob, size=1)[0]) == INFECTED:\n",
    "                    setComputerState(network, item[\"_id\"], INFECTED)\n",
    "                    spread = spread + 1\n",
    "                    \n",
    "            #elif (item['state'] == CLEAR): # might get the virus again                \n",
    "            #    if (np.random.binomial(n=1, p=prob, size=1)[0]) == INFECTED:\n",
    "            #         setComputerState(network, item[\"_id\"], INFECTED)                    \n",
    "            \n",
    "        # computer technician arrives, finds a new_k number of infected computers\n",
    "        total_infected = totalState(network, INFECTED)\n",
    "    \n",
    "        if (total_infected <= tech_threshold):\n",
    "            #if new_k <= 5, clean all of them, and flag that the network is clean\n",
    "            changeNetworkState(network, INFECTED, CLEAR)\n",
    "            clear_network = True\n",
    "        \n",
    "        else:\n",
    "            #pick randomly any 5 out of the infected new_k and clean them\n",
    "            setRandomState(network, INFECTED, CLEAR, tech_threshold)                \n",
    "    \n",
    "        # save results    \n",
    "        simulations.append({        \n",
    "                'simulation'   : day+1,\n",
    "                'spread'       : spread,\n",
    "                #'infected'     : totalState(network, INFECTED),\n",
    "                'recover'      : totalState(network, CLEAR),\n",
    "                'uninfected'   : totalState(network, UNINFECTED)            \n",
    "        })\n",
    "        \n",
    "    #for item in network:\n",
    "    #    print (item)\n",
    "    \n",
    "    "
   ]
  },
  {
   "cell_type": "code",
   "execution_count": 77,
   "metadata": {},
   "outputs": [
    {
     "data": {
      "text/html": [
       "<div>\n",
       "<style scoped>\n",
       "    .dataframe tbody tr th:only-of-type {\n",
       "        vertical-align: middle;\n",
       "    }\n",
       "\n",
       "    .dataframe tbody tr th {\n",
       "        vertical-align: top;\n",
       "    }\n",
       "\n",
       "    .dataframe thead th {\n",
       "        text-align: right;\n",
       "    }\n",
       "</style>\n",
       "<table border=\"1\" class=\"dataframe\">\n",
       "  <thead>\n",
       "    <tr style=\"text-align: right;\">\n",
       "      <th></th>\n",
       "      <th>simulation</th>\n",
       "      <th>spread</th>\n",
       "      <th>recover</th>\n",
       "      <th>uninfected</th>\n",
       "    </tr>\n",
       "  </thead>\n",
       "  <tbody>\n",
       "    <tr>\n",
       "      <th>0</th>\n",
       "      <td>1</td>\n",
       "      <td>4</td>\n",
       "      <td>3</td>\n",
       "      <td>16</td>\n",
       "    </tr>\n",
       "    <tr>\n",
       "      <th>1</th>\n",
       "      <td>1</td>\n",
       "      <td>1</td>\n",
       "      <td>5</td>\n",
       "      <td>15</td>\n",
       "    </tr>\n",
       "  </tbody>\n",
       "</table>\n",
       "</div>"
      ],
      "text/plain": [
       "   simulation  spread  recover  uninfected\n",
       "0           1       4        3          16\n",
       "1           1       1        5          15"
      ]
     },
     "execution_count": 77,
     "metadata": {},
     "output_type": "execute_result"
    }
   ],
   "source": [
    "summary = pd.DataFrame(data=simulations, columns=list(simulations[0].keys()))\n",
    "\n",
    "summary\n",
    "#summary.groupby(by='spread').count()\n",
    "#summary.groupby(by='spread').count()\n",
    "\n",
    "#g = summary.groupby(by='simulation').count()\n",
    "#cond = g['spread'] > 1\n",
    "#g[cond]\n",
    "\n",
    "#cond = summary['simulation'] == 77\n",
    "#summary[cond]\n"
   ]
  },
  {
   "cell_type": "markdown",
   "metadata": {},
   "source": [
    "##### Results\n",
    "_____"
   ]
  },
  {
   "cell_type": "code",
   "execution_count": 89,
   "metadata": {},
   "outputs": [
    {
     "data": {
      "text/html": [
       "<div>\n",
       "<style scoped>\n",
       "    .dataframe tbody tr th:only-of-type {\n",
       "        vertical-align: middle;\n",
       "    }\n",
       "\n",
       "    .dataframe tbody tr th {\n",
       "        vertical-align: top;\n",
       "    }\n",
       "\n",
       "    .dataframe thead th {\n",
       "        text-align: right;\n",
       "    }\n",
       "</style>\n",
       "<table border=\"1\" class=\"dataframe\">\n",
       "  <thead>\n",
       "    <tr style=\"text-align: right;\">\n",
       "      <th></th>\n",
       "      <th>simulation</th>\n",
       "      <th>spread</th>\n",
       "      <th>infected</th>\n",
       "      <th>uninfected</th>\n",
       "    </tr>\n",
       "  </thead>\n",
       "  <tbody>\n",
       "    <tr>\n",
       "      <th>3</th>\n",
       "      <td>3</td>\n",
       "      <td>0</td>\n",
       "      <td>6</td>\n",
       "      <td>14</td>\n",
       "    </tr>\n",
       "  </tbody>\n",
       "</table>\n",
       "</div>"
      ],
      "text/plain": [
       "   simulation  spread  infected  uninfected\n",
       "3           3       0         6          14"
      ]
     },
     "execution_count": 89,
     "metadata": {},
     "output_type": "execute_result"
    }
   ],
   "source": [
    "cond = summary['spread'] == 0\n",
    "summary[cond]\n",
    "\n",
    "#summary.groupby(by='infected').count()"
   ]
  },
  {
   "cell_type": "code",
   "execution_count": 324,
   "metadata": {},
   "outputs": [
    {
     "name": "stdout",
     "output_type": "stream",
     "text": [
      "The expected time it takes to remove the virus from the whole network : 224 day(s)\n"
     ]
    }
   ],
   "source": [
    "cond = summary['infected'] >= 1\n",
    "p = summary[cond]['infected'].sum()/total_simulations\n",
    "\n",
    "expected_time = (computers/tech_threshold) * p * computers\n",
    "\n",
    "print(f\"The expected time it takes to remove the virus from the whole network : {int(expected_time)} day(s)\")"
   ]
  },
  {
   "cell_type": "code",
   "execution_count": 325,
   "metadata": {},
   "outputs": [
    {
     "name": "stdout",
     "output_type": "stream",
     "text": [
      "The probability that each computer gets infected at least once : 2.8\n"
     ]
    }
   ],
   "source": [
    "cond = summary['infected'] >= 1\n",
    "p = summary[cond]['infected'].sum()/total_simulations\n",
    "\n",
    "print(f\"The probability that each computer gets infected at least once : {p}\")"
   ]
  },
  {
   "cell_type": "code",
   "execution_count": 326,
   "metadata": {},
   "outputs": [
    {
     "name": "stdout",
     "output_type": "stream",
     "text": [
      "The expected number of computers that get infected : 588\n"
     ]
    }
   ],
   "source": [
    "cond = summary['infected'] >= 1\n",
    "p = summary[cond]['infected'].sum()/total_simulations\n",
    "\n",
    "expected_computers = [p*i for i in range(1, computers+1)]\n",
    "\n",
    "print(f\"The expected number of computers that get infected : {math.ceil(sum(expected_computers))}\")"
   ]
  },
  {
   "cell_type": "code",
   "execution_count": null,
   "metadata": {},
   "outputs": [],
   "source": []
  },
  {
   "cell_type": "code",
   "execution_count": null,
   "metadata": {},
   "outputs": [],
   "source": []
  },
  {
   "cell_type": "code",
   "execution_count": 113,
   "metadata": {},
   "outputs": [],
   "source": [
    "total_clear_network = 0\n",
    "total_not_clear_network = 0\n",
    "\n",
    "for day in range(total_days):\n",
    "    \n",
    "    # for each connection \"infected -> noninfected\" you use a Bernoulli trial (with probability of success p=0.1) to determine if this nonifected computer will become infected\n",
    "    spread = sum(np.random.binomial(n=1, p=prob, size=uninfected))        \n",
    "    infected = infected + spread\n",
    "    uninfected = uninfected - spread\n",
    "    \n",
    "    # computer technician arrives, finds a new_k number of infected computers\n",
    "    # if new_k <= 5, clean all of them, and flag that the network is clean\n",
    "    # else pick randomly any 5 out of the infected new_k and clean them\n",
    "    \n",
    "    if ( infected    <= tech_threshold):\n",
    "        uninfected    = uninfected + infected\n",
    "        infected      = 0\n",
    "        total_clear_network = total_clear_network + 1\n",
    "    else:\n",
    "        uninfected    = uninfected + tech_threshold\n",
    "        infected      = infected - tech_threshold\n",
    "        total_not_clear_network = total_not_clear_network + 1\n",
    "   \n",
    "    simulations.append({        \n",
    "        'day'          : day+1, \n",
    "        'computers'    : computers,\n",
    "        'spread'       : spread,\n",
    "        'clearNetwork' : (True if infected == 0 else False),\n",
    "        'infected'     : infected,\n",
    "        'uninfected'   : uninfected,\n",
    "        'p_clear'      : total_clear_network/(day+1),\n",
    "        'p_not_clear'  : total_not_clear_network/(day+1)\n",
    "    })       "
   ]
  },
  {
   "cell_type": "code",
   "execution_count": null,
   "metadata": {},
   "outputs": [],
   "source": []
  },
  {
   "cell_type": "code",
   "execution_count": null,
   "metadata": {},
   "outputs": [],
   "source": []
  },
  {
   "cell_type": "code",
   "execution_count": null,
   "metadata": {},
   "outputs": [],
   "source": []
  },
  {
   "cell_type": "code",
   "execution_count": null,
   "metadata": {},
   "outputs": [],
   "source": []
  },
  {
   "cell_type": "markdown",
   "metadata": {},
   "source": [
    "##### Results\n",
    "____"
   ]
  },
  {
   "cell_type": "code",
   "execution_count": 114,
   "metadata": {},
   "outputs": [],
   "source": [
    "summary = pd.DataFrame(data=simulations, columns=list(simulations[0].keys()))"
   ]
  },
  {
   "cell_type": "code",
   "execution_count": 115,
   "metadata": {},
   "outputs": [
    {
     "name": "stdout",
     "output_type": "stream",
     "text": [
      "The expected time it takes to remove the virus from the whole network : 79 day(s)\n"
     ]
    }
   ],
   "source": [
    "#cond = summary['infected'] == 0\n",
    "cond = summary['clearNetwork'] == True\n",
    "p = summary[cond]['infected'].count()/total_days\n",
    "expected_time = (computers/tech_threshold) * p * computers\n",
    "\n",
    "print(f\"The expected time it takes to remove the virus from the whole network : {int(expected_time)} day(s)\")"
   ]
  },
  {
   "cell_type": "code",
   "execution_count": 116,
   "metadata": {},
   "outputs": [
    {
     "name": "stdout",
     "output_type": "stream",
     "text": [
      "The probability that each computer gets infected at least once : 0.0117651\n"
     ]
    }
   ],
   "source": [
    "#cond = summary['infected'] >= 1\n",
    "cond = summary['clearNetwork'] == False\n",
    "print(f\"The probability that each computer gets infected at least once : {summary[cond]['infected'].count()/total_days}\")"
   ]
  },
  {
   "cell_type": "code",
   "execution_count": 117,
   "metadata": {},
   "outputs": [
    {
     "name": "stdout",
     "output_type": "stream",
     "text": [
      "The expected number of computers that get infected : 3\n"
     ]
    }
   ],
   "source": [
    "#cond = summary['infected'] >= 1\n",
    "cond = summary['clearNetwork'] == False\n",
    "p = summary[cond]['infected'].count()/total_days\n",
    "\n",
    "expected_computers = [p*i for i in range(1, computers+1)]\n",
    "\n",
    "print(f\"The expected number of computers that get infected : {math.ceil(sum(expected_computers))}\")"
   ]
  },
  {
   "cell_type": "markdown",
   "metadata": {},
   "source": [
    "##### Visualizations\n",
    "____"
   ]
  },
  {
   "cell_type": "code",
   "execution_count": 102,
   "metadata": {},
   "outputs": [
    {
     "data": {
      "image/png": "[encoded data removed]",
      "text/plain": [
       "<Figure size 1100x400 with 2 Axes>"
      ]
     },
     "metadata": {},
     "output_type": "display_data"
    }
   ],
   "source": [
    "fig, axes =  plt.subplots(nrows=1, ncols=2, figsize=(11,4), dpi=100)\n",
    "\n",
    "axes[0].set_title('Virus Spread Distribution')\n",
    "\n",
    "sns.distplot(summary['spread'], kde=False,ax=axes[0]);\n",
    "sns.countplot(x=\"clearNetwork\", data=summary, ax=axes[1])\n",
    "\n",
    "plt.tight_layout()"
   ]
  },
  {
   "cell_type": "code",
   "execution_count": 94,
   "metadata": {},
   "outputs": [
    {
     "data": {
      "text/html": [
       "<div>\n",
       "<style scoped>\n",
       "    .dataframe tbody tr th:only-of-type {\n",
       "        vertical-align: middle;\n",
       "    }\n",
       "\n",
       "    .dataframe tbody tr th {\n",
       "        vertical-align: top;\n",
       "    }\n",
       "\n",
       "    .dataframe thead th {\n",
       "        text-align: right;\n",
       "    }\n",
       "</style>\n",
       "<table border=\"1\" class=\"dataframe\">\n",
       "  <thead>\n",
       "    <tr style=\"text-align: right;\">\n",
       "      <th></th>\n",
       "      <th>day</th>\n",
       "      <th>computers</th>\n",
       "      <th>spread</th>\n",
       "      <th>clearNetwork</th>\n",
       "      <th>infected</th>\n",
       "      <th>uninfected</th>\n",
       "      <th>p_clear</th>\n",
       "      <th>p_not_clear</th>\n",
       "    </tr>\n",
       "  </thead>\n",
       "  <tbody>\n",
       "    <tr>\n",
       "      <th>0</th>\n",
       "      <td>1</td>\n",
       "      <td>20</td>\n",
       "      <td>2</td>\n",
       "      <td>True</td>\n",
       "      <td>0</td>\n",
       "      <td>20</td>\n",
       "      <td>1.000000</td>\n",
       "      <td>0.000000</td>\n",
       "    </tr>\n",
       "    <tr>\n",
       "      <th>1</th>\n",
       "      <td>2</td>\n",
       "      <td>20</td>\n",
       "      <td>0</td>\n",
       "      <td>True</td>\n",
       "      <td>0</td>\n",
       "      <td>20</td>\n",
       "      <td>1.000000</td>\n",
       "      <td>0.000000</td>\n",
       "    </tr>\n",
       "    <tr>\n",
       "      <th>2</th>\n",
       "      <td>3</td>\n",
       "      <td>20</td>\n",
       "      <td>0</td>\n",
       "      <td>True</td>\n",
       "      <td>0</td>\n",
       "      <td>20</td>\n",
       "      <td>1.000000</td>\n",
       "      <td>0.000000</td>\n",
       "    </tr>\n",
       "    <tr>\n",
       "      <th>3</th>\n",
       "      <td>4</td>\n",
       "      <td>20</td>\n",
       "      <td>1</td>\n",
       "      <td>True</td>\n",
       "      <td>0</td>\n",
       "      <td>20</td>\n",
       "      <td>1.000000</td>\n",
       "      <td>0.000000</td>\n",
       "    </tr>\n",
       "    <tr>\n",
       "      <th>4</th>\n",
       "      <td>5</td>\n",
       "      <td>20</td>\n",
       "      <td>4</td>\n",
       "      <td>True</td>\n",
       "      <td>0</td>\n",
       "      <td>20</td>\n",
       "      <td>1.000000</td>\n",
       "      <td>0.000000</td>\n",
       "    </tr>\n",
       "    <tr>\n",
       "      <th>...</th>\n",
       "      <td>...</td>\n",
       "      <td>...</td>\n",
       "      <td>...</td>\n",
       "      <td>...</td>\n",
       "      <td>...</td>\n",
       "      <td>...</td>\n",
       "      <td>...</td>\n",
       "      <td>...</td>\n",
       "    </tr>\n",
       "    <tr>\n",
       "      <th>95</th>\n",
       "      <td>96</td>\n",
       "      <td>20</td>\n",
       "      <td>0</td>\n",
       "      <td>True</td>\n",
       "      <td>0</td>\n",
       "      <td>20</td>\n",
       "      <td>0.968750</td>\n",
       "      <td>0.031250</td>\n",
       "    </tr>\n",
       "    <tr>\n",
       "      <th>96</th>\n",
       "      <td>97</td>\n",
       "      <td>20</td>\n",
       "      <td>1</td>\n",
       "      <td>True</td>\n",
       "      <td>0</td>\n",
       "      <td>20</td>\n",
       "      <td>0.969072</td>\n",
       "      <td>0.030928</td>\n",
       "    </tr>\n",
       "    <tr>\n",
       "      <th>97</th>\n",
       "      <td>98</td>\n",
       "      <td>20</td>\n",
       "      <td>3</td>\n",
       "      <td>True</td>\n",
       "      <td>0</td>\n",
       "      <td>20</td>\n",
       "      <td>0.969388</td>\n",
       "      <td>0.030612</td>\n",
       "    </tr>\n",
       "    <tr>\n",
       "      <th>98</th>\n",
       "      <td>99</td>\n",
       "      <td>20</td>\n",
       "      <td>2</td>\n",
       "      <td>True</td>\n",
       "      <td>0</td>\n",
       "      <td>20</td>\n",
       "      <td>0.969697</td>\n",
       "      <td>0.030303</td>\n",
       "    </tr>\n",
       "    <tr>\n",
       "      <th>99</th>\n",
       "      <td>100</td>\n",
       "      <td>20</td>\n",
       "      <td>4</td>\n",
       "      <td>True</td>\n",
       "      <td>0</td>\n",
       "      <td>20</td>\n",
       "      <td>0.970000</td>\n",
       "      <td>0.030000</td>\n",
       "    </tr>\n",
       "  </tbody>\n",
       "</table>\n",
       "<p>100 rows × 8 columns</p>\n",
       "</div>"
      ],
      "text/plain": [
       "    day  computers  spread  clearNetwork  infected  uninfected   p_clear  \\\n",
       "0     1         20       2          True         0          20  1.000000   \n",
       "1     2         20       0          True         0          20  1.000000   \n",
       "2     3         20       0          True         0          20  1.000000   \n",
       "3     4         20       1          True         0          20  1.000000   \n",
       "4     5         20       4          True         0          20  1.000000   \n",
       "..  ...        ...     ...           ...       ...         ...       ...   \n",
       "95   96         20       0          True         0          20  0.968750   \n",
       "96   97         20       1          True         0          20  0.969072   \n",
       "97   98         20       3          True         0          20  0.969388   \n",
       "98   99         20       2          True         0          20  0.969697   \n",
       "99  100         20       4          True         0          20  0.970000   \n",
       "\n",
       "    p_not_clear  \n",
       "0      0.000000  \n",
       "1      0.000000  \n",
       "2      0.000000  \n",
       "3      0.000000  \n",
       "4      0.000000  \n",
       "..          ...  \n",
       "95     0.031250  \n",
       "96     0.030928  \n",
       "97     0.030612  \n",
       "98     0.030303  \n",
       "99     0.030000  \n",
       "\n",
       "[100 rows x 8 columns]"
      ]
     },
     "execution_count": 94,
     "metadata": {},
     "output_type": "execute_result"
    }
   ],
   "source": [
    "summary"
   ]
  },
  {
   "cell_type": "code",
   "execution_count": 111,
   "metadata": {},
   "outputs": [
    {
     "data": {
      "text/plain": [
       "374819"
      ]
     },
     "execution_count": 111,
     "metadata": {},
     "output_type": "execute_result"
    }
   ],
   "source": [
    "cond = summary['clearNetwork'] == False\n",
    "summary[cond]['infected'].count()"
   ]
  },
  {
   "cell_type": "code",
   "execution_count": null,
   "metadata": {},
   "outputs": [],
   "source": []
  },
  {
   "cell_type": "code",
   "execution_count": null,
   "metadata": {},
   "outputs": [],
   "source": []
  },
  {
   "cell_type": "code",
   "execution_count": 404,
   "metadata": {},
   "outputs": [
    {
     "data": {
      "text/plain": [
       "1976382"
      ]
     },
     "execution_count": 404,
     "metadata": {},
     "output_type": "execute_result"
    }
   ],
   "source": [
    "cond = summary['infected'] == 0\n",
    "summary[cond]['infected'].count()"
   ]
  },
  {
   "cell_type": "code",
   "execution_count": 405,
   "metadata": {},
   "outputs": [
    {
     "data": {
      "text/plain": [
       "1976382"
      ]
     },
     "execution_count": 405,
     "metadata": {},
     "output_type": "execute_result"
    }
   ],
   "source": [
    "cond = summary['clearNetwork'] == True\n",
    "summary[cond]['infected'].count()"
   ]
  },
  {
   "cell_type": "code",
   "execution_count": 458,
   "metadata": {},
   "outputs": [
    {
     "data": {
      "text/plain": [
       "2000000"
      ]
     },
     "execution_count": 458,
     "metadata": {},
     "output_type": "execute_result"
    }
   ],
   "source": [
    "total_days"
   ]
  },
  {
   "cell_type": "code",
   "execution_count": 459,
   "metadata": {},
   "outputs": [
    {
     "data": {
      "text/plain": [
       "400000.0"
      ]
     },
     "execution_count": 459,
     "metadata": {},
     "output_type": "execute_result"
    }
   ],
   "source": [
    "total_days*0.2"
   ]
  },
  {
   "cell_type": "code",
   "execution_count": null,
   "metadata": {},
   "outputs": [],
   "source": [
    "2000000 \n",
    "400000.0"
   ]
  },
  {
   "cell_type": "code",
   "execution_count": 345,
   "metadata": {},
   "outputs": [
    {
     "name": "stdout",
     "output_type": "stream",
     "text": [
      "5.0334900000000005\n"
     ]
    }
   ],
   "source": [
    "    #expected_comp = 0\n",
    "\n",
    "for i in range(1, computers+1):\n",
    "    expected_comp = expected_comp + i * 0.0119845\n",
    "#    cond = summary['infected'] == i    \n",
    "#    expected_comp = expected_comp + i * (summary[cond]['infected'].count()/total_days)\n",
    "    \n",
    "    \n",
    "    #print(expected_comp)\n",
    "\n",
    "    \n",
    "#cond = summary['infected'] == 1\n",
    "#(summary[cond]['infected'].count()/total_days)\n",
    "\n",
    "\n",
    "#(0.0119845/2)*computers\n",
    "\n",
    "print(expected_comp)\n",
    "\n"
   ]
  },
  {
   "cell_type": "code",
   "execution_count": 120,
   "metadata": {},
   "outputs": [
    {
     "data": {
      "text/plain": [
       "array([0, 0, 0, 0, 1, 0, 1, 0, 0, 0, 0, 0, 0, 0, 0, 0, 0, 0, 0])"
      ]
     },
     "execution_count": 120,
     "metadata": {},
     "output_type": "execute_result"
    }
   ],
   "source": [
    "\n",
    "\n",
    "np.random.binomial(n=1, p=0.1, size=19)"
   ]
  },
  {
   "cell_type": "code",
   "execution_count": 118,
   "metadata": {},
   "outputs": [
    {
     "name": "stdout",
     "output_type": "stream",
     "text": [
      "Help on built-in function binomial:\n",
      "\n",
      "binomial(...) method of numpy.random.mtrand.RandomState instance\n",
      "    binomial(n, p, size=None)\n",
      "    \n",
      "    Draw samples from a binomial distribution.\n",
      "    \n",
      "    Samples are drawn from a binomial distribution with specified\n",
      "    parameters, n trials and p probability of success where\n",
      "    n an integer >= 0 and p is in the interval [0,1]. (n may be\n",
      "    input as a float, but it is truncated to an integer in use)\n",
      "    \n",
      "    .. note::\n",
      "        New code should use the ``binomial`` method of a ``default_rng()``\n",
      "        instance instead; see `random-quick-start`.\n",
      "    \n",
      "    Parameters\n",
      "    ----------\n",
      "    n : int or array_like of ints\n",
      "        Parameter of the distribution, >= 0. Floats are also accepted,\n",
      "        but they will be truncated to integers.\n",
      "    p : float or array_like of floats\n",
      "        Parameter of the distribution, >= 0 and <=1.\n",
      "    size : int or tuple of ints, optional\n",
      "        Output shape.  If the given shape is, e.g., ``(m, n, k)``, then\n",
      "        ``m * n * k`` samples are drawn.  If size is ``None`` (default),\n",
      "        a single value is returned if ``n`` and ``p`` are both scalars.\n",
      "        Otherwise, ``np.broadcast(n, p).size`` samples are drawn.\n",
      "    \n",
      "    Returns\n",
      "    -------\n",
      "    out : ndarray or scalar\n",
      "        Drawn samples from the parameterized binomial distribution, where\n",
      "        each sample is equal to the number of successes over the n trials.\n",
      "    \n",
      "    See Also\n",
      "    --------\n",
      "    scipy.stats.binom : probability density function, distribution or\n",
      "        cumulative density function, etc.\n",
      "    Generator.binomial: which should be used for new code.\n",
      "    \n",
      "    Notes\n",
      "    -----\n",
      "    The probability density for the binomial distribution is\n",
      "    \n",
      "    .. math:: P(N) = \\binom{n}{N}p^N(1-p)^{n-N},\n",
      "    \n",
      "    where :math:`n` is the number of trials, :math:`p` is the probability\n",
      "    of success, and :math:`N` is the number of successes.\n",
      "    \n",
      "    When estimating the standard error of a proportion in a population by\n",
      "    using a random sample, the normal distribution works well unless the\n",
      "    product p*n <=5, where p = population proportion estimate, and n =\n",
      "    number of samples, in which case the binomial distribution is used\n",
      "    instead. For example, a sample of 15 people shows 4 who are left\n",
      "    handed, and 11 who are right handed. Then p = 4/15 = 27%. 0.27*15 = 4,\n",
      "    so the binomial distribution should be used in this case.\n",
      "    \n",
      "    References\n",
      "    ----------\n",
      "    .. [1] Dalgaard, Peter, \"Introductory Statistics with R\",\n",
      "           Springer-Verlag, 2002.\n",
      "    .. [2] Glantz, Stanton A. \"Primer of Biostatistics.\", McGraw-Hill,\n",
      "           Fifth Edition, 2002.\n",
      "    .. [3] Lentner, Marvin, \"Elementary Applied Statistics\", Bogden\n",
      "           and Quigley, 1972.\n",
      "    .. [4] Weisstein, Eric W. \"Binomial Distribution.\" From MathWorld--A\n",
      "           Wolfram Web Resource.\n",
      "           http://mathworld.wolfram.com/BinomialDistribution.html\n",
      "    .. [5] Wikipedia, \"Binomial distribution\",\n",
      "           https://en.wikipedia.org/wiki/Binomial_distribution\n",
      "    \n",
      "    Examples\n",
      "    --------\n",
      "    Draw samples from the distribution:\n",
      "    \n",
      "    >>> n, p = 10, .5  # number of trials, probability of each trial\n",
      "    >>> s = np.random.binomial(n, p, 1000)\n",
      "    # result of flipping a coin 10 times, tested 1000 times.\n",
      "    \n",
      "    A real world example. A company drills 9 wild-cat oil exploration\n",
      "    wells, each with an estimated probability of success of 0.1. All nine\n",
      "    wells fail. What is the probability of that happening?\n",
      "    \n",
      "    Let's do 20,000 trials of the model, and count the number that\n",
      "    generate zero positive results.\n",
      "    \n",
      "    >>> sum(np.random.binomial(9, 0.1, 20000) == 0)/20000.\n",
      "    # answer = 0.38885, or 38%.\n",
      "\n"
     ]
    }
   ],
   "source": []
  },
  {
   "cell_type": "code",
   "execution_count": null,
   "metadata": {},
   "outputs": [],
   "source": []
  },
  {
   "cell_type": "code",
   "execution_count": null,
   "metadata": {},
   "outputs": [],
   "source": []
  },
  {
   "cell_type": "code",
   "execution_count": null,
   "metadata": {},
   "outputs": [],
   "source": []
  },
  {
   "cell_type": "code",
   "execution_count": null,
   "metadata": {},
   "outputs": [],
   "source": []
  },
  {
   "cell_type": "code",
   "execution_count": null,
   "metadata": {},
   "outputs": [],
   "source": []
  },
  {
   "cell_type": "code",
   "execution_count": null,
   "metadata": {},
   "outputs": [],
   "source": []
  },
  {
   "cell_type": "code",
   "execution_count": null,
   "metadata": {},
   "outputs": [],
   "source": []
  },
  {
   "cell_type": "markdown",
   "metadata": {},
   "source": [
    "#### Functions\n",
    "____"
   ]
  },
  {
   "cell_type": "code",
   "execution_count": 55,
   "metadata": {},
   "outputs": [],
   "source": [
    "def bernoulli(p):\n",
    "    random_number = random.random()\n",
    "    \n",
    "    return (1 if random_number <= p else 0)"
   ]
  },
  {
   "cell_type": "code",
   "execution_count": 31,
   "metadata": {},
   "outputs": [],
   "source": [
    "def binomial(n_trials, p):\n",
    "    trials = [bernoulli(p) for i in range(n_trials)]\n",
    "    return sum(trials)"
   ]
  },
  {
   "cell_type": "markdown",
   "metadata": {},
   "source": [
    "#### Model\n",
    "____"
   ]
  },
  {
   "cell_type": "code",
   "execution_count": 51,
   "metadata": {},
   "outputs": [
    {
     "data": {
      "text/plain": [
       "1"
      ]
     },
     "execution_count": 51,
     "metadata": {},
     "output_type": "execute_result"
    }
   ],
   "source": [
    "###\n",
    "###\n",
    "### spread the virus random accross all uninfected computers\n",
    "### take 5 random computers and remove the virus\n",
    "### count (total_infected, total_uninfected)\n",
    "\n",
    "# everyday\n",
    "    # step 1 : (virus spread) to any unfected computer (bernoulli(p) and pick a random computer)\n",
    "    # step 2 : take 5 random computers and remove the virus\n",
    "    # count (total_infected, total_uninfected, total_removed) per day\n",
    "    # days : loop\n",
    "    \n",
    "\n",
    "#np.random.binomial(n=1, p=0.1, size=19)\n",
    "\n",
    "\n",
    "bernoulli(0.1)\n"
   ]
  },
  {
   "cell_type": "code",
   "execution_count": 22,
   "metadata": {},
   "outputs": [
    {
     "data": {
      "text/plain": [
       "array([0, 0, 0, 0, 0, 0, 0, 0, 0, 0, 0, 0, 0, 0, 0, 0, 1, 0, 1])"
      ]
     },
     "execution_count": 22,
     "metadata": {},
     "output_type": "execute_result"
    }
   ],
   "source": [
    "np.random.binomial(n=1, p=0.1, size=19)"
   ]
  },
  {
   "cell_type": "code",
   "execution_count": 174,
   "metadata": {},
   "outputs": [],
   "source": [
    "total = []\n",
    "\n",
    "for _ in range(iterations):\n",
    "    total.append(binomial(n_trials, p))   \n"
   ]
  },
  {
   "cell_type": "code",
   "execution_count": 180,
   "metadata": {},
   "outputs": [
    {
     "data": {
      "image/png": "[encoded data removed]",
      "text/plain": [
       "<Figure size 432x288 with 1 Axes>"
      ]
     },
     "metadata": {
      "needs_background": "light"
     },
     "output_type": "display_data"
    }
   ],
   "source": [
    "sns.distplot(total, kde=False, bins=30);"
   ]
  },
  {
   "cell_type": "code",
   "execution_count": 144,
   "metadata": {},
   "outputs": [
    {
     "data": {
      "text/plain": [
       "0.015"
      ]
     },
     "execution_count": 144,
     "metadata": {},
     "output_type": "execute_result"
    }
   ],
   "source": [
    "3/200"
   ]
  },
  {
   "cell_type": "code",
   "execution_count": null,
   "metadata": {},
   "outputs": [],
   "source": []
  }
 ],
 "metadata": {
  "kernelspec": {
   "display_name": "Python 3",
   "language": "python",
   "name": "python3"
  },
  "language_info": {
   "codemirror_mode": {
    "name": "ipython",
    "version": 3
   },
   "file_extension": ".py",
   "mimetype": "text/x-python",
   "name": "python",
   "nbconvert_exporter": "python",
   "pygments_lexer": "ipython3",
   "version": "3.7.6"
  }
 },
 "nbformat": 4,
 "nbformat_minor": 4
}
